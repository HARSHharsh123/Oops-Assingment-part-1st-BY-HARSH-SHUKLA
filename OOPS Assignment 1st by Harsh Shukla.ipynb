{
 "cells": [
  {
   "cell_type": "code",
   "execution_count": 1,
   "id": "c7e5f917",
   "metadata": {},
   "outputs": [],
   "source": [
    "#Q1. Explain Class and Object with respect to Object-Oriented Programming. Give a suitable example."
   ]
  },
  {
   "cell_type": "code",
   "execution_count": 2,
   "id": "5a1af82a",
   "metadata": {},
   "outputs": [],
   "source": [
    "#class  -> class is the characterization or classification of real world entity but not specific to a real world entity.\n",
    "#simply means it is the blue print or skeleton of real world entity\n",
    "\n",
    "#more about class -> class has some set of properties(attributes) ans methods(functions) that can be acccssed through object.\n",
    "#class encapsulates behavaiour and data."
   ]
  },
  {
   "cell_type": "code",
   "execution_count": 3,
   "id": "6050489c",
   "metadata": {},
   "outputs": [],
   "source": [
    "#object -> it is the instance(example) of the calss it is also called as object or variable of class , through object we\n",
    "#can access the member variables or member functions of the class"
   ]
  },
  {
   "cell_type": "code",
   "execution_count": 4,
   "id": "a55a826e",
   "metadata": {},
   "outputs": [],
   "source": [
    "#ex-> #example of car class"
   ]
  },
  {
   "cell_type": "code",
   "execution_count": 5,
   "id": "030b4bb3",
   "metadata": {},
   "outputs": [],
   "source": [
    "#car is the class that contains properties(attributes) and methods(functions).\n",
    "#attributes(class variables) -> model name , model no , speed\n",
    "#methods(class functions) -> accelerate , brake"
   ]
  },
  {
   "cell_type": "code",
   "execution_count": 7,
   "id": "10d2aaeb",
   "metadata": {},
   "outputs": [],
   "source": [
    "#car class\n",
    "class car:\n",
    "    def __init__(self, model_name, model_no):\n",
    "        self.model_name = model_name\n",
    "        self.model_no = model_no\n",
    "        self.speed = 0\n",
    "    def accelerate(self,speed):\n",
    "        if(speed < 0):\n",
    "            return \"Speed can't be negative\"\n",
    "        self.speed += speed\n",
    "    def brake(self,speed):\n",
    "        if(speed < 0):\n",
    "            return \"Speed can't be negative\"\n",
    "        self.speed -= speed\n"
   ]
  },
  {
   "cell_type": "code",
   "execution_count": 8,
   "id": "d3984e74",
   "metadata": {},
   "outputs": [],
   "source": [
    "#object of car class\n",
    "mycar = car('desire','AC1232')"
   ]
  },
  {
   "cell_type": "code",
   "execution_count": 9,
   "id": "f55af727",
   "metadata": {},
   "outputs": [],
   "source": [
    "mycar.accelerate(12)"
   ]
  },
  {
   "cell_type": "code",
   "execution_count": 10,
   "id": "d7bd9f27",
   "metadata": {},
   "outputs": [
    {
     "data": {
      "text/plain": [
       "12"
      ]
     },
     "execution_count": 10,
     "metadata": {},
     "output_type": "execute_result"
    }
   ],
   "source": [
    "mycar.speed"
   ]
  },
  {
   "cell_type": "code",
   "execution_count": 11,
   "id": "bbb25ee2",
   "metadata": {},
   "outputs": [],
   "source": [
    "mycar.brake(10)"
   ]
  },
  {
   "cell_type": "code",
   "execution_count": 12,
   "id": "d06acbb8",
   "metadata": {},
   "outputs": [
    {
     "data": {
      "text/plain": [
       "2"
      ]
     },
     "execution_count": 12,
     "metadata": {},
     "output_type": "execute_result"
    }
   ],
   "source": [
    "mycar.speed"
   ]
  },
  {
   "cell_type": "code",
   "execution_count": 13,
   "id": "940e0b41",
   "metadata": {},
   "outputs": [
    {
     "data": {
      "text/plain": [
       "'Four Pillars of OOPS are -> inheritance , polymorphism , encapsulation , abstraction'"
      ]
     },
     "execution_count": 13,
     "metadata": {},
     "output_type": "execute_result"
    }
   ],
   "source": [
    "#Q2. Name the four pillars of OOPs.\n",
    "'''Four Pillars of OOPS are -> inheritance , polymorphism , encapsulation , abstraction'''"
   ]
  },
  {
   "cell_type": "code",
   "execution_count": 14,
   "id": "8cfe6b03",
   "metadata": {},
   "outputs": [],
   "source": [
    "# Q3. Explain why the __init__() function is used. Give a suitable example."
   ]
  },
  {
   "cell_type": "code",
   "execution_count": 15,
   "id": "55036af3",
   "metadata": {},
   "outputs": [],
   "source": [
    "#__init__() function is maily used to intialize the attributes of class , means if we have to take input from the class\n",
    "#we can use init() "
   ]
  },
  {
   "cell_type": "code",
   "execution_count": 18,
   "id": "a4ed47ca",
   "metadata": {},
   "outputs": [],
   "source": [
    "#example -> \n",
    "class details:\n",
    "    def __init__(self,st_Name,st_age,st_gender):\n",
    "        self.st_Name = st_Name\n",
    "        self.st_age = st_age\n",
    "        self.st_gender = st_gender\n",
    "    def return_values(self):\n",
    "        return self.st_Name,self.st_age,self.st_gender"
   ]
  },
  {
   "cell_type": "code",
   "execution_count": 19,
   "id": "52d1aa89",
   "metadata": {},
   "outputs": [],
   "source": [
    "#we are giving input to the calss \n",
    "student = details(\"Harsh Shukla\", 19, 'M')"
   ]
  },
  {
   "cell_type": "code",
   "execution_count": 20,
   "id": "d518d3b8",
   "metadata": {},
   "outputs": [
    {
     "data": {
      "text/plain": [
       "('Harsh Shukla', 19, 'M')"
      ]
     },
     "execution_count": 20,
     "metadata": {},
     "output_type": "execute_result"
    }
   ],
   "source": [
    "student.return_values()"
   ]
  },
  {
   "cell_type": "code",
   "execution_count": 21,
   "id": "c279d401",
   "metadata": {},
   "outputs": [],
   "source": [
    "# Q4. Why self is used in OOPs?"
   ]
  },
  {
   "cell_type": "code",
   "execution_count": 23,
   "id": "caa2340f",
   "metadata": {},
   "outputs": [],
   "source": [
    "#self acts a as pointer that maps / points / binds the properties or methods to the class\n",
    "#how to differentiate that a particular attribute is the member of calss it can be done by using self keyword"
   ]
  },
  {
   "cell_type": "code",
   "execution_count": 24,
   "id": "c4c40659",
   "metadata": {},
   "outputs": [],
   "source": [
    "# Q5. What is inheritance? Give an example for each type of inheritance."
   ]
  },
  {
   "cell_type": "code",
   "execution_count": 25,
   "id": "04596eb9",
   "metadata": {},
   "outputs": [],
   "source": [
    "#inheritance -> it is the pillar of oopsm that is used for code reusability \n",
    "#when one class inherit all properites or behivaour of another class "
   ]
  },
  {
   "cell_type": "code",
   "execution_count": 26,
   "id": "ec60c7f2",
   "metadata": {},
   "outputs": [],
   "source": [
    "#types of inheritance:"
   ]
  },
  {
   "cell_type": "code",
   "execution_count": 27,
   "id": "cd6e9408",
   "metadata": {},
   "outputs": [],
   "source": [
    "#single inheritance\n",
    "#multiple inheritance\n",
    "#multilevel inheritance\n",
    "#heirarchical inheritance\n",
    "#hybrid inheritance "
   ]
  },
  {
   "cell_type": "code",
   "execution_count": 28,
   "id": "b356858e",
   "metadata": {},
   "outputs": [],
   "source": [
    "#sinlge inheritance"
   ]
  },
  {
   "cell_type": "code",
   "execution_count": 40,
   "id": "9b9c61a4",
   "metadata": {},
   "outputs": [],
   "source": [
    "class A:\n",
    "    def a(self):\n",
    "        return \"this is class A\"\n",
    "class B(A):\n",
    "    pass"
   ]
  },
  {
   "cell_type": "code",
   "execution_count": 41,
   "id": "d46b2c4b",
   "metadata": {},
   "outputs": [],
   "source": [
    "a = B()"
   ]
  },
  {
   "cell_type": "code",
   "execution_count": 46,
   "id": "8ead164e",
   "metadata": {},
   "outputs": [
    {
     "data": {
      "text/plain": [
       "'this is class A'"
      ]
     },
     "execution_count": 46,
     "metadata": {},
     "output_type": "execute_result"
    }
   ],
   "source": [
    "a.a() #we are accessing the function of class A from the obejct of b as it is the inherited class"
   ]
  },
  {
   "cell_type": "code",
   "execution_count": 47,
   "id": "76595258",
   "metadata": {},
   "outputs": [],
   "source": [
    "#multiple inheritance"
   ]
  },
  {
   "cell_type": "code",
   "execution_count": 52,
   "id": "451728a3",
   "metadata": {},
   "outputs": [],
   "source": [
    "class A:\n",
    "    def a(self):\n",
    "        return \"this is Father class\"\n",
    "class B:\n",
    "    def b(self):\n",
    "        return \"this is Mother class\"\n",
    "class C(A,B):\n",
    "    pass"
   ]
  },
  {
   "cell_type": "code",
   "execution_count": 53,
   "id": "f7f2302c",
   "metadata": {},
   "outputs": [],
   "source": [
    "child = C()"
   ]
  },
  {
   "cell_type": "code",
   "execution_count": 54,
   "id": "843537b5",
   "metadata": {},
   "outputs": [
    {
     "data": {
      "text/plain": [
       "'this is Father class'"
      ]
     },
     "execution_count": 54,
     "metadata": {},
     "output_type": "execute_result"
    }
   ],
   "source": [
    "child.a()"
   ]
  },
  {
   "cell_type": "code",
   "execution_count": 55,
   "id": "2ed31116",
   "metadata": {},
   "outputs": [
    {
     "data": {
      "text/plain": [
       "'this is Mother class'"
      ]
     },
     "execution_count": 55,
     "metadata": {},
     "output_type": "execute_result"
    }
   ],
   "source": [
    "child.b()"
   ]
  },
  {
   "cell_type": "code",
   "execution_count": 56,
   "id": "1038a26e",
   "metadata": {},
   "outputs": [],
   "source": [
    "#multilevel inheritance"
   ]
  },
  {
   "cell_type": "code",
   "execution_count": 71,
   "id": "b3262e86",
   "metadata": {},
   "outputs": [],
   "source": [
    "class A:\n",
    "    def a(self):\n",
    "        return \"this is Class A\"\n",
    "class B(A):\n",
    "    def b(self):\n",
    "        return \"this is class B\"\n",
    "class C(B):\n",
    "    pass\n",
    "    "
   ]
  },
  {
   "cell_type": "code",
   "execution_count": 72,
   "id": "d1e5b995",
   "metadata": {},
   "outputs": [],
   "source": [
    "b = A()"
   ]
  },
  {
   "cell_type": "code",
   "execution_count": 73,
   "id": "ad3059c7",
   "metadata": {},
   "outputs": [
    {
     "data": {
      "text/plain": [
       "'this is Class A'"
      ]
     },
     "execution_count": 73,
     "metadata": {},
     "output_type": "execute_result"
    }
   ],
   "source": [
    "b.a()"
   ]
  },
  {
   "cell_type": "code",
   "execution_count": 74,
   "id": "db0c9452",
   "metadata": {},
   "outputs": [],
   "source": [
    "c = C()"
   ]
  },
  {
   "cell_type": "code",
   "execution_count": 75,
   "id": "3d2f024b",
   "metadata": {},
   "outputs": [
    {
     "data": {
      "text/plain": [
       "'this is Class A'"
      ]
     },
     "execution_count": 75,
     "metadata": {},
     "output_type": "execute_result"
    }
   ],
   "source": [
    "c.a()"
   ]
  },
  {
   "cell_type": "code",
   "execution_count": 76,
   "id": "74a55985",
   "metadata": {},
   "outputs": [
    {
     "data": {
      "text/plain": [
       "'this is class B'"
      ]
     },
     "execution_count": 76,
     "metadata": {},
     "output_type": "execute_result"
    }
   ],
   "source": [
    "c.b()"
   ]
  },
  {
   "cell_type": "code",
   "execution_count": 78,
   "id": "1f5c00d0",
   "metadata": {},
   "outputs": [],
   "source": [
    "#heirarchical inheritance"
   ]
  },
  {
   "cell_type": "code",
   "execution_count": 80,
   "id": "6d6d6cc5",
   "metadata": {},
   "outputs": [],
   "source": [
    "class A:\n",
    "    def a(self):\n",
    "        return \"this is root class\"\n",
    "class B(A):\n",
    "    pass\n",
    "class C(A):\n",
    "    pass"
   ]
  },
  {
   "cell_type": "code",
   "execution_count": 83,
   "id": "486e85a1",
   "metadata": {},
   "outputs": [],
   "source": [
    "b = B()"
   ]
  },
  {
   "cell_type": "code",
   "execution_count": 84,
   "id": "d6625c3e",
   "metadata": {},
   "outputs": [
    {
     "data": {
      "text/plain": [
       "'this is root class'"
      ]
     },
     "execution_count": 84,
     "metadata": {},
     "output_type": "execute_result"
    }
   ],
   "source": [
    "b.a()"
   ]
  },
  {
   "cell_type": "code",
   "execution_count": 85,
   "id": "84bc4ad7",
   "metadata": {},
   "outputs": [],
   "source": [
    "c = C()"
   ]
  },
  {
   "cell_type": "code",
   "execution_count": 86,
   "id": "69165093",
   "metadata": {},
   "outputs": [
    {
     "data": {
      "text/plain": [
       "'this is root class'"
      ]
     },
     "execution_count": 86,
     "metadata": {},
     "output_type": "execute_result"
    }
   ],
   "source": [
    "c.a()"
   ]
  },
  {
   "cell_type": "code",
   "execution_count": 87,
   "id": "f68fc08a",
   "metadata": {},
   "outputs": [],
   "source": [
    "#Assignment Submitted BY HARSH SHUKLA"
   ]
  },
  {
   "cell_type": "code",
   "execution_count": null,
   "id": "9e1f6630",
   "metadata": {},
   "outputs": [],
   "source": []
  }
 ],
 "metadata": {
  "kernelspec": {
   "display_name": "Python 3 (ipykernel)",
   "language": "python",
   "name": "python3"
  },
  "language_info": {
   "codemirror_mode": {
    "name": "ipython",
    "version": 3
   },
   "file_extension": ".py",
   "mimetype": "text/x-python",
   "name": "python",
   "nbconvert_exporter": "python",
   "pygments_lexer": "ipython3",
   "version": "3.9.13"
  }
 },
 "nbformat": 4,
 "nbformat_minor": 5
}
